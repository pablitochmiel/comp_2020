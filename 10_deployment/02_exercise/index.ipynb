{
 "cells": [
  {
   "cell_type": "markdown",
   "metadata": {},
   "source": [
    "# COMP 2020"
   ]
  },
  {
   "cell_type": "markdown",
   "metadata": {},
   "source": [
    "## 10. Deployment"
   ]
  },
  {
   "cell_type": "markdown",
   "metadata": {},
   "source": [
    "### 10.2. Exercise"
   ]
  },
  {
   "cell_type": "markdown",
   "metadata": {},
   "source": [
    "Tasks:\n",
    "\n",
    "1. Publishing\n",
    "\n",
    "    - Create a simple application consisting of a library, tests and an executable file (or copy it from previous exercises). Then publish the entire application for Linux and Windows operating systems. The app should be published using the CLI provided by .NET Core. The application should be optimized and contain all necessary dependencies.\n",
    "    - Check that the application starts correctly on both systems (collect screenshots)\n",
    "    - Upload both applications to the \"Downloads\" section of your Bitbucket repository\n",
    "\n",
    "\n",
    "2. Docker\n",
    "\n",
    "    - Create a simple ASP.NET application, then build and publish it in a Docker container.\n",
    "    - The page should display your name and first letter of the surname (e.g. Elon M.)\n",
    "    - Publish the image on [hub.docker.com](https://hub.docker.com/) as public image and provide the image name as solution (it shloud be possible to run your image using ```docker run``` command on any machine)\n",
    "\n",
    "\n",
    "3. Docker Compose\n",
    "\n",
    "    - Create a docker-compose configuration consisting of:\n",
    "        - Database (e.g.: MySQL)\n",
    "        - GRPC server\n",
    "        - GRPC client\n",
    "    - GRPC server, while handling requests from client, should insert new row into database and return all previously inserted rows in the response\n",
    "    - GRPC client should read input from console, send it to server, receive the results and display them in the console\n",
    "    - Entire application can be started using docker-compose command\n",
    "    - There should be a way of executing the client by hand (provide instruction how to do it)"
   ]
  },
  {
   "cell_type": "code",
   "execution_count": null,
   "metadata": {},
   "outputs": [
    {
     "name": "stdout",
     "output_type": "stream",
     "text": [
      "OpenJDK 64-Bit Server VM warning: Option UseConcMarkSweepGC was deprecated in version 9.0 and will likely be removed in a future release.\n",
      "Debug | ByteBufferAsyncProcessor  | 10:Idea Main Thread | PAUSE ('Socket not connected') :: {id = EarlyStartServerWire/Sender, state = 'Initialized'} \n",
      "Debug | Server                    | 27:EarlyStartServerWire | EarlyStartServerWire: listening /127.0.0.1:40615 \n",
      "Installation home directory: file:////opt/JetBrains Rider-2020.2.3\n",
      "System directory: file:////home/student/.cache/JetBrains/Rider2020.2\n",
      "Config directory: file:////home/student/.config/JetBrains/Rider2020.2\n",
      "Log directory: file:////home/student/.cache/JetBrains/Rider2020.2/log\n",
      "\n",
      "Following output will be written to a log file /home/student/.cache/JetBrains/Rider2020.2/log/frontend.log\n"
     ]
    }
   ],
   "source": [
    "! rider project/project.sln"
   ]
  },
  {
   "cell_type": "code",
   "execution_count": null,
   "metadata": {},
   "outputs": [],
   "source": []
  }
 ],
 "metadata": {
  "kernelspec": {
   "display_name": "Python 3",
   "language": "python",
   "name": "python3"
  },
  "language_info": {
   "codemirror_mode": {
    "name": "ipython",
    "version": 3
   },
   "file_extension": ".py",
   "mimetype": "text/x-python",
   "name": "python",
   "nbconvert_exporter": "python",
   "pygments_lexer": "ipython3",
   "version": "3.8.3"
  }
 },
 "nbformat": 4,
 "nbformat_minor": 4
}
