{
 "cells": [
  {
   "cell_type": "markdown",
   "metadata": {},
   "source": [
    "# COMP 2020"
   ]
  },
  {
   "cell_type": "markdown",
   "metadata": {},
   "source": [
    "## 10. Deployment"
   ]
  },
  {
   "cell_type": "markdown",
   "metadata": {},
   "source": [
    "Links:\n",
    "\n",
    "- [dotnet publish](https://docs.microsoft.com/en-us/dotnet/core/tools/dotnet-publish)\n",
    "- [.NET Core application publishing overview](https://docs.microsoft.com/en-us/dotnet/core/deploying/)\n",
    "- [Publish .NET Core apps with the .NET Core CLI](https://docs.microsoft.com/en-us/dotnet/core/deploying/deploy-with-cli)\n",
    "- [.NET Core RID Catalog](https://docs.microsoft.com/en-us/dotnet/core/rid-catalog)\n",
    "- [Single file deployment and executable](https://docs.microsoft.com/en-us/dotnet/core/deploying/single-file)\n",
    "- [Docker](https://www.docker.com/)\n",
    "- [Docker Hub](https://hub.docker.com/)\n",
    "- [Docker Hub - Microsoft](https://hub.docker.com/u/microsoft/)\n",
    "- [Dockerize an ASP.NET Core application](https://docs.docker.com/engine/examples/dotnetcore/)\n",
    "- [Overview of Docker Compose](https://docs.docker.com/compose/)"
   ]
  },
  {
   "cell_type": "markdown",
   "metadata": {},
   "source": [
    "Tutorials:\n",
    "    \n",
    "1. [Tutorial](01_tutorial/index.ipynb)"
   ]
  },
  {
   "cell_type": "markdown",
   "metadata": {},
   "source": [
    "Exercises:\n",
    "\n",
    "2. [Exercise](02_exercise/index.ipynb)"
   ]
  }
 ],
 "metadata": {
  "kernelspec": {
   "display_name": "Python 3",
   "language": "python",
   "name": "python3"
  },
  "language_info": {
   "codemirror_mode": {
    "name": "ipython",
    "version": 3
   },
   "file_extension": ".py",
   "mimetype": "text/x-python",
   "name": "python",
   "nbconvert_exporter": "python",
   "pygments_lexer": "ipython3",
   "version": "3.8.3"
  }
 },
 "nbformat": 4,
 "nbformat_minor": 4
}
