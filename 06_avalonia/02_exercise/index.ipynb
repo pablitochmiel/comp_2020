{
 "cells": [
  {
   "cell_type": "markdown",
   "metadata": {},
   "source": [
    "# COMP 2020"
   ]
  },
  {
   "cell_type": "markdown",
   "metadata": {},
   "source": [
    "## 6. Avalonia GUI"
   ]
  },
  {
   "cell_type": "markdown",
   "metadata": {},
   "source": [
    "### 6.2. Exercise"
   ]
  },
  {
   "cell_type": "markdown",
   "metadata": {},
   "source": [
    "Tasks:\n",
    "\n",
    "1. First application\n",
    "\n",
    "    - Install application templates provided by the Avalonia framework\n",
    "    - Create an Avalonia MVVM application called ```App```\n",
    "    - Add FxCop, treat warnings as errors, unlock nullable references\n",
    "    - Correct compilation errors and inspections from the IDE\n",
    "\n",
    "\n",
    "2. Unit tests\n",
    "\n",
    "    - Add a text box that will allow you to enter your first name and will display a welcome message and clear the field when you click the button\n",
    "    - Write unit tests for new functionality\n",
    "    - Hints:\n",
    "        - For general instructions, see the tutorial on the Avalonia framework site\n",
    "        - The view should use bindings to the view model\n",
    "        - The name and welcome text should be properties of the view model\n",
    "        - The click should be handled using property of the ReactiveCommand type\n",
    "\n",
    "\n",
    "3. Use the Grid component to organize the elements in the GUI:\n",
    "\n",
    "    - The grid is to contain two columns - the first one takes 1/3 and the other 2/3 the width of the window.\n",
    "    - The grid is to contain two rows - the first with the same height as the components inside, the second filling the remaining height of the window.\n",
    "    - A text field should be placed in the upper left corner - the field contains a watermark that suggests entering the first name.\n",
    "    - In the upper right corner, add a button with the text \"Say hello!\".\n",
    "    - The next line will contain your greeting text - both horizontally and vertically centered."
   ]
  },
  {
   "cell_type": "code",
   "execution_count": null,
   "metadata": {},
   "outputs": [
    {
     "name": "stdout",
     "output_type": "stream",
     "text": [
      "OpenJDK 64-Bit Server VM warning: Option UseConcMarkSweepGC was deprecated in version 9.0 and will likely be removed in a future release.\n",
      "Debug | ByteBufferAsyncProcessor  | 10:Idea Main Thread | PAUSE ('Socket not connected') :: {id = EarlyStartServerWire/Sender, state = 'Initialized'} \n",
      "Debug | Server                    | 27:EarlyStartServerWire | EarlyStartServerWire: listening /127.0.0.1:36461 \n",
      "Debug | Server                    | 27:EarlyStartServerWire | EarlyStartServerWire : connected \n",
      "Debug | ByteBufferAsyncProcessor  | 27:EarlyStartServerWire | RESUME :: {id = EarlyStartServerWire/Sender, state = 'AsyncProcessing'} \n",
      "Installation home directory: file:////opt/JetBrains Rider-2020.2.3\n",
      "System directory: file:////home/student/.cache/JetBrains/Rider2020.2\n",
      "Config directory: file:////home/student/.config/JetBrains/Rider2020.2\n",
      "Log directory: file:////home/student/.cache/JetBrains/Rider2020.2/log\n",
      "\n",
      "Following output will be written to a log file /home/student/.cache/JetBrains/Rider2020.2/log/frontend.log\n"
     ]
    }
   ],
   "source": [
    "! rider project/project.sln"
   ]
  },
  {
   "cell_type": "code",
   "execution_count": null,
   "metadata": {},
   "outputs": [],
   "source": []
  }
 ],
 "metadata": {
  "kernelspec": {
   "display_name": "Python 3",
   "language": "python",
   "name": "python3"
  },
  "language_info": {
   "codemirror_mode": {
    "name": "ipython",
    "version": 3
   },
   "file_extension": ".py",
   "mimetype": "text/x-python",
   "name": "python",
   "nbconvert_exporter": "python",
   "pygments_lexer": "ipython3",
   "version": "3.8.3"
  }
 },
 "nbformat": 4,
 "nbformat_minor": 4
}
