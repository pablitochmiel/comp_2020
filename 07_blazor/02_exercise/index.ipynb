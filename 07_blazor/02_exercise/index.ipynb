{
 "cells": [
  {
   "cell_type": "markdown",
   "metadata": {},
   "source": [
    "# COMP 2020"
   ]
  },
  {
   "cell_type": "markdown",
   "metadata": {},
   "source": [
    "## 7. Blazor"
   ]
  },
  {
   "cell_type": "markdown",
   "metadata": {},
   "source": [
    "### 7.2. Exercise"
   ]
  },
  {
   "cell_type": "markdown",
   "metadata": {},
   "source": [
    "Tasks:\n",
    "\n",
    "1. First application\n",
    "\n",
    "    - Create a new ```Blazor``` project (server version) named ```Blazor```\n",
    "    - Treat warnings as errors, add FxCop analyzers, unlock nullable references and fix build errors\n",
    "    - Run the applications, register the user and log in\n",
    "    - Using the browser developer tools (or other tools), investigate how application communicates with the server.\n",
    "\n",
    "\n",
    "2. View tests\n",
    "\n",
    "    - Add unit project named ```Test``` and tests for ```Pages/FetchData.razor```\n",
    "    - Is it possible, with a simple unit test, to test the entire code in a * .razor file?\n",
    "    - What is the [SteveSandersonMS/BlazorUnitTestingPrototype](https://github.com/SteveSandersonMS/BlazorUnitTestingPrototype) project for?\n",
    "    - Few hints:\n",
    "        - Each view has a corresponding class with the same name\n",
    "        - Make sure the fields are ```public``` if they are to be used in tests\n",
    "        - You should change dependency injection method to use ```[Inject]``` attribute\n",
    "\n",
    "\n",
    "3. WASM\n",
    "\n",
    "    - Create a sample app using the ```blazorwasm``` template\n",
    "    - How does it work differently from the previous app? Investigate in the developer tools in your browser (or other tools)\n",
    "\n"
   ]
  },
  {
   "cell_type": "code",
   "execution_count": 1,
   "metadata": {},
   "outputs": [
    {
     "name": "stdout",
     "output_type": "stream",
     "text": [
      "OpenJDK 64-Bit Server VM warning: Option UseConcMarkSweepGC was deprecated in version 9.0 and will likely be removed in a future release.\n",
      "Debug | ByteBufferAsyncProcessor  | 10:Idea Main Thread | PAUSE ('Socket not connected') :: {id = EarlyStartServerWire/Sender, state = 'Initialized'} \n",
      "Debug | Server                    | 28:EarlyStartServerWire | EarlyStartServerWire: listening /127.0.0.1:34247 \n",
      "Installation home directory: file:////opt/JetBrains Rider-2020.2.3\n",
      "System directory: file:////home/student/.cache/JetBrains/Rider2020.2\n",
      "Config directory: file:////home/student/.config/JetBrains/Rider2020.2\n",
      "Log directory: file:////home/student/.cache/JetBrains/Rider2020.2/log\n",
      "\n",
      "Following output will be written to a log file /home/student/.cache/JetBrains/Rider2020.2/log/frontend.log\n"
     ]
    }
   ],
   "source": [
    "! rider project/project.sln"
   ]
  },
  {
   "cell_type": "code",
   "execution_count": null,
   "metadata": {},
   "outputs": [],
   "source": []
  }
 ],
 "metadata": {
  "kernelspec": {
   "display_name": "Python 3",
   "language": "python",
   "name": "python3"
  },
  "language_info": {
   "codemirror_mode": {
    "name": "ipython",
    "version": 3
   },
   "file_extension": ".py",
   "mimetype": "text/x-python",
   "name": "python",
   "nbconvert_exporter": "python",
   "pygments_lexer": "ipython3",
   "version": "3.8.3"
  }
 },
 "nbformat": 4,
 "nbformat_minor": 4
}
