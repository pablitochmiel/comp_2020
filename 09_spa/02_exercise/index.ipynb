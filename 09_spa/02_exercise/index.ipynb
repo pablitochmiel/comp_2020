{
 "cells": [
  {
   "cell_type": "markdown",
   "metadata": {},
   "source": [
    "# COMP 2020"
   ]
  },
  {
   "cell_type": "markdown",
   "metadata": {},
   "source": [
    "## 9. SPA"
   ]
  },
  {
   "cell_type": "markdown",
   "metadata": {},
   "source": [
    "### 9.2. Exercise"
   ]
  },
  {
   "cell_type": "markdown",
   "metadata": {},
   "source": [
    "Tasks:\n",
    "\n",
    "1. SPA application\n",
    "    - Create a SPA application using the React template (name ```Spa```).\n",
    "    - The application should use ```Individual``` authentication.\n",
    "    - You should also perform standard code cleaning (FxCop, nullable references, warnings as errors).\n",
    "\n",
    "\n",
    "2. Books page\n",
    "    - Add a book subpage to the app.\n",
    "    - You should be able to view a list of books and add new ones.\n",
    "    - Books should be stored in the database.\n",
    "\n",
    "\n",
    "3. SignalIR\n",
    "    - Add book list synchronization between open browser windows/tabs using SignalR.\n",
    "\n",
    "\n",
    "4. Tests\n",
    "    - Add usnit test project (name ```Test```)\n",
    "    - Maximise ```C#``` the code coverage in tests"
   ]
  },
  {
   "cell_type": "code",
   "execution_count": null,
   "metadata": {},
   "outputs": [],
   "source": [
    "! rider project/project.sln"
   ]
  }
 ],
 "metadata": {
  "kernelspec": {
   "display_name": "Python 3",
   "language": "python",
   "name": "python3"
  },
  "language_info": {
   "codemirror_mode": {
    "name": "ipython",
    "version": 3
   },
   "file_extension": ".py",
   "mimetype": "text/x-python",
   "name": "python",
   "nbconvert_exporter": "python",
   "pygments_lexer": "ipython3",
   "version": "3.8.3"
  }
 },
 "nbformat": 4,
 "nbformat_minor": 4
}
