{
 "cells": [
  {
   "cell_type": "markdown",
   "metadata": {},
   "source": [
    "# COMP 2020"
   ]
  },
  {
   "cell_type": "markdown",
   "metadata": {},
   "source": [
    "## 9. SPA"
   ]
  },
  {
   "cell_type": "markdown",
   "metadata": {},
   "source": [
    "### 9.2. Exercise"
   ]
  },
  {
   "cell_type": "markdown",
   "metadata": {},
   "source": [
    "Tasks:\n",
    "\n",
    "1. SPA application\n",
    "    - Create a SPA application using the React template (name ```Spa```).\n",
    "    - The application should use ```Individual``` authentication.\n",
    "    - You should also perform standard code cleaning (FxCop, nullable references, warnings as errors).\n",
    "\n",
    "\n",
    "2. Books page\n",
    "    - Add a book subpage to the app.\n",
    "    - You should be able to view a list of books and add new ones.\n",
    "    - Books should be stored in the database.\n",
    "\n",
    "\n",
    "3. SignalIR\n",
    "    - Add book list synchronization between open browser windows/tabs using SignalR.\n",
    "\n",
    "\n",
    "4. Tests\n",
    "    - Add usnit test project (name ```Test```)\n",
    "    - Maximise ```C#``` the code coverage in tests"
   ]
  },
  {
   "cell_type": "code",
   "execution_count": null,
   "metadata": {},
   "outputs": [
    {
     "name": "stdout",
     "output_type": "stream",
     "text": [
      "OpenJDK 64-Bit Server VM warning: Option UseConcMarkSweepGC was deprecated in version 9.0 and will likely be removed in a future release.\n",
      "Debug | ByteBufferAsyncProcessor  | 10:Idea Main Thread | PAUSE ('Socket not connected') :: {id = EarlyStartServerWire/Sender, state = 'Initialized'} \n",
      "Debug | Server                    | 27:EarlyStartServerWire | EarlyStartServerWire: listening /127.0.0.1:34179 \n",
      "Debug | Server                    | 27:EarlyStartServerWire | EarlyStartServerWire : connected \n",
      "Debug | ByteBufferAsyncProcessor  | 27:EarlyStartServerWire | RESUME :: {id = EarlyStartServerWire/Sender, state = 'AsyncProcessing'} \n",
      "Installation home directory: file:////opt/JetBrains Rider-2020.2.3\n",
      "System directory: file:////home/student/.cache/JetBrains/Rider2020.2\n",
      "Config directory: file:////home/student/.config/JetBrains/Rider2020.2\n",
      "Log directory: file:////home/student/.cache/JetBrains/Rider2020.2/log\n",
      "\n",
      "Following output will be written to a log file /home/student/.cache/JetBrains/Rider2020.2/log/frontend.log\n"
     ]
    }
   ],
   "source": [
    "! rider project/project.sln"
   ]
  },
  {
   "cell_type": "code",
   "execution_count": null,
   "metadata": {},
   "outputs": [],
   "source": []
  }
 ],
 "metadata": {
  "kernelspec": {
   "display_name": "Python 3",
   "language": "python",
   "name": "python3"
  },
  "language_info": {
   "codemirror_mode": {
    "name": "ipython",
    "version": 3
   },
   "file_extension": ".py",
   "mimetype": "text/x-python",
   "name": "python",
   "nbconvert_exporter": "python",
   "pygments_lexer": "ipython3",
   "version": "3.8.3"
  }
 },
 "nbformat": 4,
 "nbformat_minor": 4
}
