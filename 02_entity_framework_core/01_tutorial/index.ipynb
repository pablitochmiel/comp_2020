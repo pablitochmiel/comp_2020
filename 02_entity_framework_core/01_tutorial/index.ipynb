{
 "cells": [
  {
   "cell_type": "markdown",
   "metadata": {},
   "source": [
    "# COMP 2020"
   ]
  },
  {
   "cell_type": "markdown",
   "metadata": {},
   "source": [
    "## 2. Entity Framework Core"
   ]
  },
  {
   "cell_type": "markdown",
   "metadata": {},
   "source": [
    "### 2.1. Tutorial"
   ]
  },
  {
   "cell_type": "markdown",
   "metadata": {},
   "source": [
    "Install the ```dotnet-ef``` tool:"
   ]
  },
  {
   "cell_type": "code",
   "execution_count": null,
   "metadata": {},
   "outputs": [],
   "source": [
    "! dotnet tool install --global dotnet-ef"
   ]
  },
  {
   "cell_type": "markdown",
   "metadata": {},
   "source": [
    "Now the ```dotnet-ef``` can be invoked through the ```dotnet``` command:"
   ]
  },
  {
   "cell_type": "code",
   "execution_count": null,
   "metadata": {},
   "outputs": [],
   "source": [
    "! dotnet ef"
   ]
  },
  {
   "cell_type": "markdown",
   "metadata": {},
   "source": [
    "Lets create a dummy project:"
   ]
  },
  {
   "cell_type": "code",
   "execution_count": null,
   "metadata": {},
   "outputs": [],
   "source": [
    "! dotnet new console -o Dummy"
   ]
  },
  {
   "cell_type": "markdown",
   "metadata": {},
   "source": [
    "Adding the EF Core package:"
   ]
  },
  {
   "cell_type": "code",
   "execution_count": null,
   "metadata": {},
   "outputs": [],
   "source": [
    "! cd Dummy && dotnet add package Microsoft.EntityFrameworkCore"
   ]
  },
  {
   "cell_type": "markdown",
   "metadata": {},
   "source": [
    "Adding the SQLite provider:"
   ]
  },
  {
   "cell_type": "code",
   "execution_count": null,
   "metadata": {},
   "outputs": [],
   "source": [
    "! cd Dummy && dotnet add package Microsoft.EntityFrameworkCore.Sqlite"
   ]
  },
  {
   "cell_type": "markdown",
   "metadata": {},
   "source": [
    "Adding the design package:"
   ]
  },
  {
   "cell_type": "code",
   "execution_count": null,
   "metadata": {},
   "outputs": [],
   "source": [
    "! cd Dummy && dotnet add package Microsoft.EntityFrameworkCore.Design"
   ]
  },
  {
   "cell_type": "markdown",
   "metadata": {},
   "source": [
    "When done, edit the [Dummy/Program.cs](../../../edit/02_entity_framework_core/01_tutorial/Dummy/Program.cs) and add following content:\n",
    "    \n",
    "```c#\n",
    "using System;\n",
    "using Microsoft.EntityFrameworkCore;\n",
    "using System.Collections.Generic;\n",
    "using System.Linq;\n",
    "\n",
    "namespace Dummy\n",
    "{\n",
    "    public class BloggingContext : DbContext\n",
    "    {\n",
    "        public DbSet<Blog> Blogs { get; set; }\n",
    "        public DbSet<Post> Posts { get; set; }\n",
    "\n",
    "        protected override void OnConfiguring(DbContextOptionsBuilder optionsBuilder)\n",
    "        {\n",
    "            optionsBuilder.UseSqlite(\"Data Source=blog.db\");\n",
    "        }\n",
    "    }\n",
    "\n",
    "    public class Blog\n",
    "    {\n",
    "        public int BlogId { get; set; }\n",
    "        public string Url { get; set; }\n",
    "        public int Rating { get; set; }\n",
    "        public List<Post> Posts { get; set; }\n",
    "    }\n",
    "\n",
    "    public class Post\n",
    "    {\n",
    "        public int PostId { get; set; }\n",
    "        public string Title { get; set; }\n",
    "        public string Content { get; set; }\n",
    "\n",
    "        public int BlogId { get; set; }\n",
    "        public Blog Blog { get; set; }\n",
    "    }\n",
    "\n",
    "    class Program\n",
    "    {\n",
    "        static void Main(string[] args)\n",
    "        {\n",
    "            using (var db = new BloggingContext())\n",
    "            {\n",
    "                var blog = new Blog { Url = \"http://sample.com\", Rating = 10 };\n",
    "                db.Blogs.Add(blog);\n",
    "                db.SaveChanges();\n",
    "            }\n",
    "            \n",
    "            using (var db = new BloggingContext())\n",
    "            {\n",
    "                var blogs = db.Blogs\n",
    "                    .Where(b => b.Rating > 3)\n",
    "                    .OrderBy(b => b.Url)\n",
    "                    .ToList();\n",
    "                \n",
    "                foreach (var blog in blogs) {\n",
    "                    Console.WriteLine(blog.Url);\n",
    "                }\n",
    "            }\n",
    "        }\n",
    "    }\n",
    "}\n",
    "```"
   ]
  },
  {
   "cell_type": "code",
   "execution_count": null,
   "metadata": {},
   "outputs": [],
   "source": [
    "! dotnet build Dummy"
   ]
  },
  {
   "cell_type": "markdown",
   "metadata": {},
   "source": [
    "Generating migrations:"
   ]
  },
  {
   "cell_type": "code",
   "execution_count": null,
   "metadata": {},
   "outputs": [],
   "source": [
    "! cd Dummy && dotnet ef migrations add Initial"
   ]
  },
  {
   "cell_type": "markdown",
   "metadata": {},
   "source": [
    "Migrations were generated:"
   ]
  },
  {
   "cell_type": "code",
   "execution_count": null,
   "metadata": {},
   "outputs": [],
   "source": [
    "! ls -la Dummy/Migrations"
   ]
  },
  {
   "cell_type": "code",
   "execution_count": null,
   "metadata": {},
   "outputs": [],
   "source": [
    "! cat Dummy/Migrations/*_Initial.cs"
   ]
  },
  {
   "cell_type": "markdown",
   "metadata": {},
   "source": [
    "Update the databse:"
   ]
  },
  {
   "cell_type": "code",
   "execution_count": null,
   "metadata": {},
   "outputs": [],
   "source": [
    "! cd Dummy && dotnet ef database update"
   ]
  },
  {
   "cell_type": "markdown",
   "metadata": {},
   "source": [
    "The databse was created:"
   ]
  },
  {
   "cell_type": "code",
   "execution_count": null,
   "metadata": {},
   "outputs": [],
   "source": [
    "! ls -la Dummy/blog.db"
   ]
  },
  {
   "cell_type": "code",
   "execution_count": null,
   "metadata": {},
   "outputs": [],
   "source": [
    "! sqlite3 Dummy/blog.db '.tables'"
   ]
  },
  {
   "cell_type": "code",
   "execution_count": null,
   "metadata": {},
   "outputs": [],
   "source": [
    "! sqlite3 Dummy/blog.db 'select * from __EFMigrationsHistory'"
   ]
  },
  {
   "cell_type": "code",
   "execution_count": null,
   "metadata": {},
   "outputs": [],
   "source": [
    "! sqlite3 Dummy/blog.db 'select * from Blogs'"
   ]
  },
  {
   "cell_type": "code",
   "execution_count": null,
   "metadata": {},
   "outputs": [],
   "source": [
    "! sqlite3 Dummy/blog.db 'select * from Posts'"
   ]
  },
  {
   "cell_type": "markdown",
   "metadata": {},
   "source": [
    "Run the app:"
   ]
  },
  {
   "cell_type": "code",
   "execution_count": null,
   "metadata": {},
   "outputs": [],
   "source": [
    "! cd Dummy && dotnet run"
   ]
  },
  {
   "cell_type": "code",
   "execution_count": null,
   "metadata": {},
   "outputs": [],
   "source": [
    "! sqlite3 Dummy/blog.db 'select * from Blogs'"
   ]
  },
  {
   "cell_type": "code",
   "execution_count": null,
   "metadata": {},
   "outputs": [],
   "source": [
    "! sqlite3 Dummy/blog.db 'select * from Posts'"
   ]
  },
  {
   "cell_type": "markdown",
   "metadata": {},
   "source": [
    "Do the cleanup:"
   ]
  },
  {
   "cell_type": "code",
   "execution_count": null,
   "metadata": {},
   "outputs": [],
   "source": [
    "! rm -rf Dummy"
   ]
  }
 ],
 "metadata": {
  "kernelspec": {
   "display_name": "Python 3",
   "language": "python",
   "name": "python3"
  },
  "language_info": {
   "codemirror_mode": {
    "name": "ipython",
    "version": 3
   },
   "file_extension": ".py",
   "mimetype": "text/x-python",
   "name": "python",
   "nbconvert_exporter": "python",
   "pygments_lexer": "ipython3",
   "version": "3.8.3"
  }
 },
 "nbformat": 4,
 "nbformat_minor": 4
}
