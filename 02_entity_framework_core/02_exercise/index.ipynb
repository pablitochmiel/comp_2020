{
 "cells": [
  {
   "cell_type": "markdown",
   "metadata": {},
   "source": [
    "# COMP 2020"
   ]
  },
  {
   "cell_type": "markdown",
   "metadata": {},
   "source": [
    "## 2. Entity Framework Core"
   ]
  },
  {
   "cell_type": "markdown",
   "metadata": {},
   "source": [
    "### 2.2. Exercise"
   ]
  },
  {
   "cell_type": "markdown",
   "metadata": {},
   "source": [
    "1. Initial steps:\n",
    "    - Install the ```dotent-ef``` console utility\n",
    "    - Add a database context in the ```App``` project (using ```SQLite```).\n",
    "    - Create a migration (using the ```dotnet-ef``` tool).\n",
    "    - Update the database (using the ```dotnet-ef``` utility).\n",
    "    - Create a context instance and add data to the database.\n",
    "    - Create a new context instance and read the saved data.\n",
    "    \n",
    "2. New Migration\n",
    "\n",
    "   - Make changes to the structure of the data stored in the database by adding a new field. After adding the field, you should apply the migration properly in the database.\n",
    "   - After making the changes, check if the application allows you to properly add the new field.\n",
    "   \n",
    "3. Refactoring\n",
    "\n",
    "    - Extract context to the ```Utils``` library - the library does not use any provider.\n",
    "    - Create the unit tests using the ```InMemory``` provider in the ```Test``` project.\n",
    "    - Add a migration in the ```App``` project and check the application operation.\n",
    "    - Make sure the EF commands in the App project are still working properly:\n",
    "\n",
    "        - ```dotnet ef migrations add Initial```\n",
    "        - ```dotnet ef database update```"
   ]
  },
  {
   "cell_type": "code",
   "execution_count": null,
   "metadata": {},
   "outputs": [],
   "source": [
    "! rider project/project.sln"
   ]
  }
 ],
 "metadata": {
  "kernelspec": {
   "display_name": "Python 3",
   "language": "python",
   "name": "python3"
  },
  "language_info": {
   "codemirror_mode": {
    "name": "ipython",
    "version": 3
   },
   "file_extension": ".py",
   "mimetype": "text/x-python",
   "name": "python",
   "nbconvert_exporter": "python",
   "pygments_lexer": "ipython3",
   "version": "3.8.3"
  }
 },
 "nbformat": 4,
 "nbformat_minor": 4
}
