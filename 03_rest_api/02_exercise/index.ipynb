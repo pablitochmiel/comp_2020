{
 "cells": [
  {
   "cell_type": "markdown",
   "metadata": {},
   "source": [
    "# COMP 2020"
   ]
  },
  {
   "cell_type": "markdown",
   "metadata": {},
   "source": [
    "## 3. REST API"
   ]
  },
  {
   "cell_type": "markdown",
   "metadata": {},
   "source": [
    "### 3.2. Exercise"
   ]
  },
  {
   "cell_type": "markdown",
   "metadata": {},
   "source": [
    "1. Create a ```webapi``` project named ```App``` and then:\n",
    "\n",
    "   - Add it to the existing solution\n",
    "   - Move the sample ```WeatherForecast``` class to the new ```Utils``` library project\n",
    "   - Add sample tests for the ```Utils``` library in new ```Test``` project\n",
    "   - Add the ```FxCopAnalyzers``` package with code analyzers\n",
    "   - Treat warnings as errors\n",
    "   - Use nullable references\n",
    "   - Fix analysis issues in Rider IDE\n",
    "   - Make sure that application works correctly!\n",
    "\n",
    "\n",
    "2. Add unit tests for the ```WeatherForecastController``` class.\n",
    "\n",
    "   - You can use the adapter mechanism from the previous exercises to test logging.\n",
    "   - Is it possible to 100% cover the code with tests? If not, which parts should be excluded?\n",
    "   - Hints:\n",
    "     - Tests should be in the ```Test``` project and the controller in the ```App ``` project\n",
    "     - You can add reference from ```Test``` to the ```App ``` project\n",
    "\n",
    "\n",
    "3. Use EF to store ```WeatherForecast``` objects in the database.\n",
    "\n",
    "   - The database can be populated when the ```Post``` method is called (must be added in the controller).\n",
    "   - Retrieving data in the ```Get``` (existing) method will be as simple as reading from the database.\n",
    "   - You can use the code from previous exercises.\n",
    "   - Remember to update unit tests"
   ]
  },
  {
   "cell_type": "code",
   "execution_count": null,
   "metadata": {},
   "outputs": [
    {
     "name": "stdout",
     "output_type": "stream",
     "text": [
      "OpenJDK 64-Bit Server VM warning: Option UseConcMarkSweepGC was deprecated in version 9.0 and will likely be removed in a future release.\n",
      "Debug | ByteBufferAsyncProcessor  | 10:Idea Main Thread | PAUSE ('Socket not connected') :: {id = EarlyStartServerWire/Sender, state = 'Initialized'} \n",
      "Debug | Server                    | 28:EarlyStartServerWire | EarlyStartServerWire: listening /127.0.0.1:43321 \n",
      "Installation home directory: file:////opt/JetBrains Rider-2020.2.3\n",
      "System directory: file:////home/student/.cache/JetBrains/Rider2020.2\n",
      "Config directory: file:////home/student/.config/JetBrains/Rider2020.2\n",
      "Log directory: file:////home/student/.cache/JetBrains/Rider2020.2/log\n",
      "\n",
      "Following output will be written to a log file /home/student/.cache/JetBrains/Rider2020.2/log/frontend.log\n"
     ]
    }
   ],
   "source": [
    "! rider project/project.sln"
   ]
  },
  {
   "cell_type": "code",
   "execution_count": null,
   "metadata": {},
   "outputs": [],
   "source": []
  }
 ],
 "metadata": {
  "kernelspec": {
   "display_name": "Python 3",
   "language": "python",
   "name": "python3"
  },
  "language_info": {
   "codemirror_mode": {
    "name": "ipython",
    "version": 3
   },
   "file_extension": ".py",
   "mimetype": "text/x-python",
   "name": "python",
   "nbconvert_exporter": "python",
   "pygments_lexer": "ipython3",
   "version": "3.8.3"
  }
 },
 "nbformat": 4,
 "nbformat_minor": 4
}
