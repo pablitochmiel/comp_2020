{
 "cells": [
  {
   "cell_type": "markdown",
   "metadata": {},
   "source": [
    "# COMP 2020"
   ]
  },
  {
   "cell_type": "markdown",
   "metadata": {},
   "source": [
    "## 3. REST API"
   ]
  },
  {
   "cell_type": "markdown",
   "metadata": {},
   "source": [
    "### 3.2. Exercise"
   ]
  },
  {
   "cell_type": "markdown",
   "metadata": {},
   "source": [
    "1. Create a ```webapi``` project named ```App``` and then:\n",
    "\n",
    "   - Add it to the existing solution\n",
    "   - Move the sample ```WeatherForecast``` class to the new ```Utils``` library project\n",
    "   - Add sample tests for the ```Utils``` library in new ```Test``` project\n",
    "   - Add the ```FxCopAnalyzers``` package with code analyzers\n",
    "   - Treat warnings as errors\n",
    "   - Use nullable references\n",
    "   - Fix analysis issues in Rider IDE\n",
    "   - Make sure that application works correctly!\n",
    "\n",
    "\n",
    "2. Add unit tests for the ```WeatherForecastController``` class.\n",
    "\n",
    "   - You can use the adapter mechanism from the previous exercises to test logging.\n",
    "   - Is it possible to 100% cover the code with tests? If not, which parts should be excluded?\n",
    "   - Hints:\n",
    "     - Tests should be in the ```Test``` project and the controller in the ```App ``` project\n",
    "     - You can add reference from ```Test``` to the ```App ``` project\n",
    "\n",
    "\n",
    "3. Use EF to store ```WeatherForecast``` objects in the database.\n",
    "\n",
    "   - The database can be populated when the ```Post``` method is called (must be added in the controller).\n",
    "   - Retrieving data in the ```Get``` (existing) method will be as simple as reading from the database.\n",
    "   - You can use the code from previous exercises.\n",
    "   - Remember to update unit tests"
   ]
  },
  {
   "cell_type": "code",
   "execution_count": null,
   "metadata": {},
   "outputs": [],
   "source": [
    "! rider project/project.sln"
   ]
  }
 ],
 "metadata": {
  "kernelspec": {
   "display_name": "Python 3",
   "language": "python",
   "name": "python3"
  },
  "language_info": {
   "codemirror_mode": {
    "name": "ipython",
    "version": 3
   },
   "file_extension": ".py",
   "mimetype": "text/x-python",
   "name": "python",
   "nbconvert_exporter": "python",
   "pygments_lexer": "ipython3",
   "version": "3.8.3"
  }
 },
 "nbformat": 4,
 "nbformat_minor": 4
}
