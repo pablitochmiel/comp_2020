{
 "cells": [
  {
   "cell_type": "markdown",
   "metadata": {},
   "source": [
    "# COMP 2020"
   ]
  },
  {
   "cell_type": "markdown",
   "metadata": {},
   "source": [
    "## 8. Workers"
   ]
  },
  {
   "cell_type": "markdown",
   "metadata": {},
   "source": [
    "### 8.2. Exercise"
   ]
  },
  {
   "cell_type": "markdown",
   "metadata": {},
   "source": [
    "Tasks:\n",
    "\n",
    "1. First worker service\n",
    "\n",
    "    - Create a new worker project named ```Service```\n",
    "    - Treat warnings as errors, add FxCop analyzers, unlock nullable references and fix build errors\n",
    "    - Run the program in the console\n",
    "    - Install the program as a service using systemd\n",
    "    - View system logs from the site\n",
    "    - To build the application as a single executable file, run the command:\n",
    "    ```bash\n",
    "    dotnet publish -r linux-x64 -c Release /p:PublishSingleFile=true --self-contained\n",
    "    ```\n",
    "\n",
    "\n",
    "2. Test ExecuteAsync\n",
    "\n",
    "    - Add a unit test to check the ```ExecuteAsync``` method in the ```Worker``` class\n",
    "    - Tips:\n",
    "        - To check logging and delays, use Mocks\n",
    "        - The ```ExecuteAsync``` method cannot be called directly\n",
    "        - When starting/stopping, we operate on two types of ```CancellationToken``` class objects!\n",
    "\n",
    "\n",
    "3. RPC\n",
    "\n",
    "    - Add a simple RPC service and a client that communicates with it.\n",
    "    - The service should return the current and average amount of free RAM in the system."
   ]
  },
  {
   "cell_type": "code",
   "execution_count": null,
   "metadata": {},
   "outputs": [
    {
     "name": "stdout",
     "output_type": "stream",
     "text": [
      "OpenJDK 64-Bit Server VM warning: Option UseConcMarkSweepGC was deprecated in version 9.0 and will likely be removed in a future release.\n",
      "Debug | ByteBufferAsyncProcessor  | 10:Idea Main Thread | PAUSE ('Socket not connected') :: {id = EarlyStartServerWire/Sender, state = 'Initialized'} \n",
      "Debug | Server                    | 27:EarlyStartServerWire | EarlyStartServerWire: listening /127.0.0.1:44323 \n",
      "Installation home directory: file:////opt/JetBrains Rider-2020.2.3\n",
      "System directory: file:////home/student/.cache/JetBrains/Rider2020.2\n",
      "Config directory: file:////home/student/.config/JetBrains/Rider2020.2\n",
      "Log directory: file:////home/student/.cache/JetBrains/Rider2020.2/log\n",
      "\n",
      "Following output will be written to a log file /home/student/.cache/JetBrains/Rider2020.2/log/frontend.log\n"
     ]
    }
   ],
   "source": [
    "! rider project/project.sln"
   ]
  },
  {
   "cell_type": "code",
   "execution_count": null,
   "metadata": {},
   "outputs": [],
   "source": []
  }
 ],
 "metadata": {
  "kernelspec": {
   "display_name": "Python 3",
   "language": "python",
   "name": "python3"
  },
  "language_info": {
   "codemirror_mode": {
    "name": "ipython",
    "version": 3
   },
   "file_extension": ".py",
   "mimetype": "text/x-python",
   "name": "python",
   "nbconvert_exporter": "python",
   "pygments_lexer": "ipython3",
   "version": "3.8.3"
  }
 },
 "nbformat": 4,
 "nbformat_minor": 4
}
