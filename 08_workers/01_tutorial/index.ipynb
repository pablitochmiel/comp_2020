{
 "cells": [
  {
   "cell_type": "markdown",
   "metadata": {},
   "source": [
    "# COMP 2020"
   ]
  },
  {
   "cell_type": "markdown",
   "metadata": {},
   "source": [
    "## 8. Workers"
   ]
  },
  {
   "cell_type": "markdown",
   "metadata": {},
   "source": [
    "### 8.1. Tutorial"
   ]
  },
  {
   "cell_type": "markdown",
   "metadata": {},
   "source": [
    "#### Creating project"
   ]
  },
  {
   "cell_type": "code",
   "execution_count": null,
   "metadata": {},
   "outputs": [],
   "source": [
    "! dotnet new worker -o Worker"
   ]
  },
  {
   "cell_type": "markdown",
   "metadata": {},
   "source": [
    "Running in console:"
   ]
  },
  {
   "cell_type": "code",
   "execution_count": null,
   "metadata": {},
   "outputs": [],
   "source": [
    "! cd Worker && dotnet run"
   ]
  },
  {
   "cell_type": "markdown",
   "metadata": {},
   "source": [
    "Stop the cell above."
   ]
  },
  {
   "cell_type": "markdown",
   "metadata": {},
   "source": [
    "Adding Systemd package:"
   ]
  },
  {
   "cell_type": "code",
   "execution_count": null,
   "metadata": {},
   "outputs": [],
   "source": [
    "! cd Worker && dotnet add package Microsoft.Extensions.Hosting.Systemd --version 3.1.0"
   ]
  },
  {
   "cell_type": "markdown",
   "metadata": {},
   "source": [
    "Next step is to call **UseSystemd()** extension method in [Program.cs](../../../edit/08_workers/01_tutorial/Worker/Program.cs):\n",
    "\n",
    "```c#\n",
    "public static IHostBuilder CreateHostBuilder(string[] args) =>\n",
    "    Host.CreateDefaultBuilder(args)\n",
    "        .UseSystemd()\n",
    "```"
   ]
  },
  {
   "cell_type": "markdown",
   "metadata": {},
   "source": [
    "Check compilation:"
   ]
  },
  {
   "cell_type": "code",
   "execution_count": null,
   "metadata": {},
   "outputs": [],
   "source": [
    "! cd Worker && dotnet build"
   ]
  },
  {
   "cell_type": "markdown",
   "metadata": {},
   "source": [
    "Publishing as single file application:"
   ]
  },
  {
   "cell_type": "code",
   "execution_count": null,
   "metadata": {},
   "outputs": [],
   "source": [
    "! cd Worker && dotnet publish -r linux-x64 -c Release /p:PublishSingleFile=true --self-contained"
   ]
  },
  {
   "cell_type": "markdown",
   "metadata": {},
   "source": [
    "See the created files:"
   ]
  },
  {
   "cell_type": "code",
   "execution_count": null,
   "metadata": {},
   "outputs": [],
   "source": [
    "! ls -lh Worker/bin/Release/netcoreapp3.1/linux-x64/publish/"
   ]
  },
  {
   "cell_type": "markdown",
   "metadata": {},
   "source": [
    "Try running created executable:"
   ]
  },
  {
   "cell_type": "code",
   "execution_count": null,
   "metadata": {},
   "outputs": [],
   "source": [
    "! Worker/bin/Release/netcoreapp3.1/linux-x64/publish/Worker"
   ]
  },
  {
   "cell_type": "markdown",
   "metadata": {},
   "source": [
    "Stop the above cell."
   ]
  },
  {
   "cell_type": "markdown",
   "metadata": {},
   "source": [
    "Installing service"
   ]
  },
  {
   "cell_type": "markdown",
   "metadata": {},
   "source": [
    "And copy it somewhere into filesystem (for example ```/usr/sbin/Worker```):\n",
    "\n",
    "```bash\n",
    "sudo cp /path/to/Worker /usr/sbin/Worker\n",
    "```\n",
    "\n",
    "Next step will be to create service file (for example ```/etc/systemd/system/worker.service```):\n",
    "\n",
    "\n",
    "```bash\n",
    "[Unit]\n",
    "Description=Worker service\n",
    "\n",
    "[Service]\n",
    "Type=notify\n",
    "ExecStart=/usr/sbin/Worker\n",
    "\n",
    "[Install]\n",
    "WantedBy=multi-user.target\n",
    "```\n",
    "\n",
    "Next execute:\n",
    "\n",
    "```bash\n",
    "sudo systemctl daemon-reload\n",
    "```\n",
    "\n",
    "To check status execute:\n",
    "\n",
    "```bash\n",
    "sudo service worker status \n",
    "```\n",
    "\n",
    "Should be loaded bu inactive - to start execute:\n",
    "\n",
    "```bash\n",
    "sudo service worker start\n",
    "```\n",
    "\n",
    "To see application logs:\n",
    "\n",
    "```bash\n",
    "sudo journalctl -u worker\n",
    "```"
   ]
  },
  {
   "cell_type": "markdown",
   "metadata": {},
   "source": [
    "Cleanup:"
   ]
  },
  {
   "cell_type": "code",
   "execution_count": null,
   "metadata": {},
   "outputs": [],
   "source": [
    "! rm -rf Worker"
   ]
  }
 ],
 "metadata": {
  "kernelspec": {
   "display_name": "Python 3",
   "language": "python",
   "name": "python3"
  },
  "language_info": {
   "codemirror_mode": {
    "name": "ipython",
    "version": 3
   },
   "file_extension": ".py",
   "mimetype": "text/x-python",
   "name": "python",
   "nbconvert_exporter": "python",
   "pygments_lexer": "ipython3",
   "version": "3.8.3"
  }
 },
 "nbformat": 4,
 "nbformat_minor": 4
}
