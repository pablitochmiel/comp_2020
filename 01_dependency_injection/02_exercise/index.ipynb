{
 "cells": [
  {
   "cell_type": "markdown",
   "metadata": {},
   "source": [
    "# COMP 2020"
   ]
  },
  {
   "cell_type": "markdown",
   "metadata": {},
   "source": [
    "## 1. Dependency Injection"
   ]
  },
  {
   "cell_type": "markdown",
   "metadata": {},
   "source": [
    "### 1.2. Exercise"
   ]
  },
  {
   "cell_type": "markdown",
   "metadata": {},
   "source": [
    "In this exercise you have to:\n",
    "\n",
    "1. Add unit tests to validate three types of lifetime of objects in a container. One test for:\n",
    "   - Creating a ```Bar``` object (defined in tests)\n",
    "   - ```AddTransient```\n",
    "   - ```AddSingleton```\n",
    "   - ```AddScoped```\n",
    "2. Logging support\n",
    "   - Add to the container support for an object that allows for logging in the application.\n",
    "   - The packages ```Microsoft.Extensions.Logging``` and ```Microsoft.Extensions.Logging.Console``` should be used.\n",
    "   - Objects of type ```ILogger<T>``` are to be injected using a constructor.\n",
    "3. Application structure\n",
    "   - Code using ```ILogger<T>``` is located in the ```Utils``` library\n",
    "   - The code creating the container is in the ```App``` (console) project\n",
    "   - The container tests are located in the ```Test``` project\n",
    "   - The code has 100% unit test coverage (to test the use of the logger, you can create an additional adapter)"
   ]
  },
  {
   "cell_type": "code",
   "execution_count": null,
   "metadata": {},
   "outputs": [
    {
     "name": "stdout",
     "output_type": "stream",
     "text": [
      "OpenJDK 64-Bit Server VM warning: Option UseConcMarkSweepGC was deprecated in version 9.0 and will likely be removed in a future release.\n",
      "Debug | ByteBufferAsyncProcessor  | 10:Idea Main Thread | PAUSE ('Socket not connected') :: {id = EarlyStartServerWire/Sender, state = 'Initialized'} \n",
      "Debug | Server                    | 27:EarlyStartServerWire | EarlyStartServerWire: listening /127.0.0.1:38463 \n",
      "Debug | Server                    | 27:EarlyStartServerWire | EarlyStartServerWire : connected \n",
      "Debug | ByteBufferAsyncProcessor  | 27:EarlyStartServerWire | RESUME :: {id = EarlyStartServerWire/Sender, state = 'AsyncProcessing'} \n",
      "Installation home directory: file:////opt/JetBrains Rider-2020.2.3\n",
      "System directory: file:////home/student/.cache/JetBrains/Rider2020.2\n",
      "Config directory: file:////home/student/.config/JetBrains/Rider2020.2\n",
      "Log directory: file:////home/student/.cache/JetBrains/Rider2020.2/log\n",
      "\n",
      "Following output will be written to a log file /home/student/.cache/JetBrains/Rider2020.2/log/frontend.log\n"
     ]
    }
   ],
   "source": [
    "! rider project/project.sln"
   ]
  },
  {
   "cell_type": "code",
   "execution_count": null,
   "metadata": {},
   "outputs": [],
   "source": []
  }
 ],
 "metadata": {
  "kernelspec": {
   "display_name": "Python 3",
   "language": "python",
   "name": "python3"
  },
  "language_info": {
   "codemirror_mode": {
    "name": "ipython",
    "version": 3
   },
   "file_extension": ".py",
   "mimetype": "text/x-python",
   "name": "python",
   "nbconvert_exporter": "python",
   "pygments_lexer": "ipython3",
   "version": "3.8.3"
  }
 },
 "nbformat": 4,
 "nbformat_minor": 4
}
