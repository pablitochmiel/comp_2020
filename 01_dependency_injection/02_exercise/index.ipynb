{
 "cells": [
  {
   "cell_type": "markdown",
   "metadata": {},
   "source": [
    "# COMP 2020"
   ]
  },
  {
   "cell_type": "markdown",
   "metadata": {},
   "source": [
    "## 1. Dependency Injection"
   ]
  },
  {
   "cell_type": "markdown",
   "metadata": {},
   "source": [
    "### 1.2. Exercise"
   ]
  },
  {
   "cell_type": "markdown",
   "metadata": {},
   "source": [
    "In this exercise you have to:\n",
    "\n",
    "1. Add unit tests to validate three types of lifetime of objects in a container. One test for:\n",
    "   - Creating a ```Bar``` object (defined in tests)\n",
    "   - ```AddTransient```\n",
    "   - ```AddSingleton```\n",
    "   - ```AddScoped```\n",
    "2. Logging support\n",
    "   - Add to the container support for an object that allows for logging in the application.\n",
    "   - The packages ```Microsoft.Extensions.Logging``` and ```Microsoft.Extensions.Logging.Console``` should be used.\n",
    "   - Objects of type ```ILogger<T>``` are to be injected using a constructor.\n",
    "3. Application structure\n",
    "   - Code using ```ILogger<T>``` is located in the ```Utils``` library\n",
    "   - The code creating the container is in the ```App``` (console) project\n",
    "   - The container tests are located in the ```Test``` project\n",
    "   - The code has 100% unit test coverage (to test the use of the logger, you can create an additional adapter)"
   ]
  },
  {
   "cell_type": "code",
   "execution_count": null,
   "metadata": {},
   "outputs": [],
   "source": [
    "! rider project/project.sln"
   ]
  }
 ],
 "metadata": {
  "kernelspec": {
   "display_name": "Python 3",
   "language": "python",
   "name": "python3"
  },
  "language_info": {
   "codemirror_mode": {
    "name": "ipython",
    "version": 3
   },
   "file_extension": ".py",
   "mimetype": "text/x-python",
   "name": "python",
   "nbconvert_exporter": "python",
   "pygments_lexer": "ipython3",
   "version": "3.8.3"
  }
 },
 "nbformat": 4,
 "nbformat_minor": 4
}
