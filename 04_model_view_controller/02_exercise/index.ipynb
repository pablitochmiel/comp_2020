{
 "cells": [
  {
   "cell_type": "markdown",
   "metadata": {},
   "source": [
    "# COMP 2020"
   ]
  },
  {
   "cell_type": "markdown",
   "metadata": {},
   "source": [
    "## 4. Model View Controller"
   ]
  },
  {
   "cell_type": "markdown",
   "metadata": {},
   "source": [
    "### 4.2. Exercise"
   ]
  },
  {
   "cell_type": "markdown",
   "metadata": {},
   "source": [
    "1. Create a new ```mvc``` project called ```App``` using the dotnet console tool.\n",
    "\n",
    "   - The site should allow the registration and login of users.\n",
    "   - Run the application and check if it works corretly is in the browser.\n",
    "   - After creating the project, make the following changes to the project configuration:\n",
    "\n",
    "        - Add the ```FxCopAnalyzers``` package with code analyzers\n",
    "        - Enable the treatment of warnings as errors\n",
    "        - Enable nullable references\n",
    "        - Correct compile errors and analyzer suggestions from the IDE\n",
    "\n",
    "\n",
    "2. Add unit tests for the ```App``` project. Tips:\n",
    "\n",
    "    - A reference to the ```App``` project should be added to the ```Test``` project\n",
    "    - Application startup and migration code should be excluded from covereage\n",
    "    - Can you cover all code with simple unit tests?\n",
    "\n",
    "\n",
    "3. Add the following to the application:\n",
    "\n",
    "   - ```Book``` model with fields:\n",
    "        - ```Title``` - a non-empty string\n",
    "        - ```Description``` - a non-empty string\n",
    "   - Migration for the book model\n",
    "   - Controller and views that support the new model. The methods supported are:\n",
    "       - ```Index``` - displays all books\n",
    "       - ```Create``` - displays a form for creating a new book\n",
    "       - ```Store``` - saves the book in the database - redirection to ```Index``` after adding or to ```Store``` after error\n",
    "   - Secure the controller by logging in\n",
    "\n",
    "\n",
    "4. Create integration tests based on the previous tasks.\n",
    "\n",
    "    - See the documentation: [Integration tests in ASP.NET](https://docs.microsoft.com/en-us/aspnet/core/test/integration-tests?view=aspnetcore-3.1)\n",
    "    - Add tests for existing pages\n",
    "    - Extend the books page to show, edit, and delete a single book.\n",
    "    - Maximize code coverage and remove exclusion where possible - is it possible to get 100% coverage?\n",
    "         - Coverage can be checked both in the IDE and from the dotnet tool - the latter also includes * .cshtml files\n",
    "\n",
    "    - To earn one point for:\n",
    "\n",
    "        - Integration testing for existing code\n",
    "        - Viewing, editing and deleting a single book + integration tests\n",
    "        - Maximizing code coverage with a brief explanation"
   ]
  },
  {
   "cell_type": "code",
   "execution_count": null,
   "metadata": {},
   "outputs": [
    {
     "name": "stdout",
     "output_type": "stream",
     "text": [
      "OpenJDK 64-Bit Server VM warning: Option UseConcMarkSweepGC was deprecated in version 9.0 and will likely be removed in a future release.\n",
      "Debug | ByteBufferAsyncProcessor  | 10:Idea Main Thread | PAUSE ('Socket not connected') :: {id = EarlyStartServerWire/Sender, state = 'Initialized'} \n",
      "Debug | Server                    | 28:EarlyStartServerWire | EarlyStartServerWire: listening /127.0.0.1:43043 \n",
      "Installation home directory: file:////opt/JetBrains Rider-2020.2.3\n",
      "System directory: file:////home/student/.cache/JetBrains/Rider2020.2\n",
      "Config directory: file:////home/student/.config/JetBrains/Rider2020.2\n",
      "Log directory: file:////home/student/.cache/JetBrains/Rider2020.2/log\n",
      "\n",
      "Following output will be written to a log file /home/student/.cache/JetBrains/Rider2020.2/log/frontend.log\n"
     ]
    }
   ],
   "source": [
    "! rider project/project.sln"
   ]
  },
  {
   "cell_type": "code",
   "execution_count": null,
   "metadata": {},
   "outputs": [],
   "source": []
  }
 ],
 "metadata": {
  "kernelspec": {
   "display_name": "Python 3",
   "language": "python",
   "name": "python3"
  },
  "language_info": {
   "codemirror_mode": {
    "name": "ipython",
    "version": 3
   },
   "file_extension": ".py",
   "mimetype": "text/x-python",
   "name": "python",
   "nbconvert_exporter": "python",
   "pygments_lexer": "ipython3",
   "version": "3.8.3"
  }
 },
 "nbformat": 4,
 "nbformat_minor": 4
}
