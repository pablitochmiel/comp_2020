{
 "cells": [
  {
   "cell_type": "markdown",
   "metadata": {},
   "source": [
    "# COMP 2020"
   ]
  },
  {
   "cell_type": "markdown",
   "metadata": {},
   "source": [
    "## 4. Model View Controller"
   ]
  },
  {
   "cell_type": "markdown",
   "metadata": {},
   "source": [
    "### 4.1. Tutorial"
   ]
  },
  {
   "cell_type": "markdown",
   "metadata": {},
   "source": [
    "Creating new MVC application:"
   ]
  },
  {
   "cell_type": "code",
   "execution_count": null,
   "metadata": {},
   "outputs": [],
   "source": [
    "! dotnet new mvc --auth Individual -o App"
   ]
  },
  {
   "cell_type": "markdown",
   "metadata": {},
   "source": [
    "Now we can run the application and open it from the browser: "
   ]
  },
  {
   "cell_type": "code",
   "execution_count": null,
   "metadata": {},
   "outputs": [],
   "source": [
    "! cd App && dotnet run"
   ]
  },
  {
   "cell_type": "markdown",
   "metadata": {},
   "source": [
    "Remember to stop the above cell when done!"
   ]
  },
  {
   "cell_type": "markdown",
   "metadata": {},
   "source": [
    "Important parts of the aplication:\n",
    "    \n",
    "- [App/](../../../tree/04_model_view_controller/01_tutorial/App) (project directory)\n",
    "- [App/Program.cs](../../../edit/04_model_view_controller/01_tutorial/App/Program.cs) (```Main```, ```CreateHostBuilder```)\n",
    "- [App/Startup.cs](../../../edit/04_model_view_controller/01_tutorial/App/Startup.cs) (```ConfigureServices```, ```Configure```)\n",
    "- [App/Data/ApplicationDbContext.cs](../../../edit/04_model_view_controller/01_tutorial/App/Data/ApplicationDbContext.cs) (database context)\n",
    "- [App/Data/Migrations/](../../../tree/04_model_view_controller/01_tutorial/App/Data/Migrations) (database migrations)\n",
    "- [App/Controllers/HomeController.cs](../../../edit/04_model_view_controller/01_tutorial/App/Controllers/HomeController.cs) (controller example)\n",
    "- [App/Models/ErrorViewModel.cs](../../../edit/04_model_view_controller/01_tutorial/App/Models/ErrorViewModel.cs) (view model example)\n",
    "- [App/Views/Home/Index.cshtml](../../../edit/04_model_view_controller/01_tutorial/App/Views/Home/Index.cshtml) (view example)"
   ]
  },
  {
   "cell_type": "markdown",
   "metadata": {},
   "source": [
    "Cleanup:"
   ]
  },
  {
   "cell_type": "code",
   "execution_count": null,
   "metadata": {},
   "outputs": [],
   "source": [
    "! rm -rf App"
   ]
  }
 ],
 "metadata": {
  "kernelspec": {
   "display_name": "Python 3",
   "language": "python",
   "name": "python3"
  },
  "language_info": {
   "codemirror_mode": {
    "name": "ipython",
    "version": 3
   },
   "file_extension": ".py",
   "mimetype": "text/x-python",
   "name": "python",
   "nbconvert_exporter": "python",
   "pygments_lexer": "ipython3",
   "version": "3.8.3"
  }
 },
 "nbformat": 4,
 "nbformat_minor": 4
}
