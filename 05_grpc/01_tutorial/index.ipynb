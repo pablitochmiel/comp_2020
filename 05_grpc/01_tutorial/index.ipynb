{
 "cells": [
  {
   "cell_type": "markdown",
   "metadata": {},
   "source": [
    "# COMP 2020"
   ]
  },
  {
   "cell_type": "markdown",
   "metadata": {},
   "source": [
    "## 5. gRPC"
   ]
  },
  {
   "cell_type": "markdown",
   "metadata": {},
   "source": [
    "### 5.1. Tutorial"
   ]
  },
  {
   "cell_type": "markdown",
   "metadata": {},
   "source": [
    "Creating gRPC application:"
   ]
  },
  {
   "cell_type": "code",
   "execution_count": null,
   "metadata": {},
   "outputs": [],
   "source": [
    "! dotnet new grpc -o Server"
   ]
  },
  {
   "cell_type": "markdown",
   "metadata": {},
   "source": [
    "Now we can run the application and see some info in the browser at [https://localhost:5001](https://localhost:5001):"
   ]
  },
  {
   "cell_type": "code",
   "execution_count": null,
   "metadata": {},
   "outputs": [],
   "source": [
    "! cd Server && dotnet run"
   ]
  },
  {
   "cell_type": "markdown",
   "metadata": {},
   "source": [
    "Now stop the above cell."
   ]
  },
  {
   "cell_type": "markdown",
   "metadata": {},
   "source": [
    "The message redirects to [Create the gRPC client in a .NET console app](https://docs.microsoft.com/en-us/aspnet/core/tutorials/grpc/grpc-start?view=aspnetcore-3.1&tabs=visual-studio#create-the-grpc-client-in-a-net-console-app) tutorial."
   ]
  },
  {
   "cell_type": "markdown",
   "metadata": {},
   "source": [
    "Let us create an empty client application:"
   ]
  },
  {
   "cell_type": "code",
   "execution_count": null,
   "metadata": {},
   "outputs": [],
   "source": [
    "! dotnet new console -o Client"
   ]
  },
  {
   "cell_type": "markdown",
   "metadata": {},
   "source": [
    "Add required packages:"
   ]
  },
  {
   "cell_type": "code",
   "execution_count": null,
   "metadata": {},
   "outputs": [],
   "source": [
    "! cd Client && dotnet add package Grpc.Net.Client"
   ]
  },
  {
   "cell_type": "code",
   "execution_count": null,
   "metadata": {},
   "outputs": [],
   "source": [
    "! cd Client && dotnet add package Google.Protobuf"
   ]
  },
  {
   "cell_type": "code",
   "execution_count": null,
   "metadata": {},
   "outputs": [],
   "source": [
    "! cd Client && dotnet add package Grpc.Tools"
   ]
  },
  {
   "cell_type": "markdown",
   "metadata": {},
   "source": [
    "Adding ProtoBuf files:"
   ]
  },
  {
   "cell_type": "code",
   "execution_count": null,
   "metadata": {},
   "outputs": [],
   "source": [
    "! mkdir Client/Protos"
   ]
  },
  {
   "cell_type": "code",
   "execution_count": null,
   "metadata": {},
   "outputs": [],
   "source": [
    "! cp Server/Protos/greet.proto Client/Protos/greet.proto"
   ]
  },
  {
   "cell_type": "markdown",
   "metadata": {},
   "source": [
    "Now edit the [Client/Protos/greet.proto](../../../edit/05_grpc/01_tutorial/Client/Protos/greet.proto) and update:\n",
    "\n",
    "```proto\n",
    "option csharp_namespace = \"GrpcGreeterClient\";\n",
    "```"
   ]
  },
  {
   "cell_type": "markdown",
   "metadata": {},
   "source": [
    "Now edit the [Client/Client.csproj](../../../edit/05_grpc/01_tutorial/Client/Client.csproj) and add:\n",
    "\n",
    "```xml\n",
    "<ItemGroup>\n",
    "  <Protobuf Include=\"Protos\\greet.proto\" GrpcServices=\"Client\" />\n",
    "</ItemGroup>\n",
    "```"
   ]
  },
  {
   "cell_type": "markdown",
   "metadata": {},
   "source": [
    "Edit the [Client/Program.cs](../../../edit/05_grpc/01_tutorial/Client/Program.cs) and add:\n",
    "    \n",
    "```c#\n",
    "using System;\n",
    "using System.Net.Http;\n",
    "using System.Threading.Tasks;\n",
    "using Grpc.Net.Client;\n",
    "\n",
    "namespace GrpcGreeterClient\n",
    "{\n",
    "    class Program\n",
    "    {\n",
    "        static async Task Main(string[] args)\n",
    "        {\n",
    "            using var channel = GrpcChannel.ForAddress(\"https://localhost:5001\");\n",
    "            var client =  new Greeter.GreeterClient(channel);\n",
    "            var request = new HelloRequest { Name = \"GreeterClient\" };\n",
    "            var reply = await client.SayHelloAsync(request);\n",
    "            Console.WriteLine(\"Greeting: \" + reply.Message);\n",
    "        }\n",
    "    }\n",
    "}\n",
    "```"
   ]
  },
  {
   "cell_type": "markdown",
   "metadata": {},
   "source": [
    "Try building the application:"
   ]
  },
  {
   "cell_type": "code",
   "execution_count": null,
   "metadata": {},
   "outputs": [],
   "source": [
    "! cd Client && dotnet build"
   ]
  },
  {
   "cell_type": "markdown",
   "metadata": {},
   "source": [
    "Check what kind of error is visible when server is not running:"
   ]
  },
  {
   "cell_type": "code",
   "execution_count": null,
   "metadata": {},
   "outputs": [],
   "source": [
    "! cd Client && dotnet run"
   ]
  },
  {
   "cell_type": "markdown",
   "metadata": {},
   "source": [
    "Starting the server:"
   ]
  },
  {
   "cell_type": "code",
   "execution_count": null,
   "metadata": {},
   "outputs": [],
   "source": [
    "import subprocess\n",
    "server = subprocess.Popen(['dotnet', 'run', '--project', 'Server'])"
   ]
  },
  {
   "cell_type": "code",
   "execution_count": null,
   "metadata": {},
   "outputs": [],
   "source": [
    "! cd Client && dotnet run"
   ]
  },
  {
   "cell_type": "markdown",
   "metadata": {},
   "source": [
    "To fix the certifacate issues edit the [Client/Program.cs](../../../edit/05_grpc/01_tutorial/Client/Program.cs) and replace:\n",
    "\n",
    "```c#\n",
    "using var channel = GrpcChannel.ForAddress(\"https://localhost:5001\");\n",
    "```\n",
    "\n",
    "by:\n",
    "\n",
    "```c#\n",
    "var httpHandler = new HttpClientHandler();\n",
    "\n",
    "httpHandler.ServerCertificateCustomValidationCallback = \n",
    "    HttpClientHandler.DangerousAcceptAnyServerCertificateValidator;\n",
    "\n",
    "using var channel = GrpcChannel.ForAddress(\"https://localhost:5001\",\n",
    "    new GrpcChannelOptions { HttpHandler = httpHandler });\n",
    "```"
   ]
  },
  {
   "cell_type": "code",
   "execution_count": null,
   "metadata": {},
   "outputs": [],
   "source": [
    "! cd Client && dotnet run"
   ]
  },
  {
   "cell_type": "code",
   "execution_count": null,
   "metadata": {},
   "outputs": [],
   "source": [
    "server.kill()"
   ]
  },
  {
   "cell_type": "markdown",
   "metadata": {},
   "source": [
    "Cleanup:"
   ]
  },
  {
   "cell_type": "code",
   "execution_count": null,
   "metadata": {},
   "outputs": [],
   "source": [
    "! rm -rf Server Client"
   ]
  }
 ],
 "metadata": {
  "kernelspec": {
   "display_name": "Python 3",
   "language": "python",
   "name": "python3"
  },
  "language_info": {
   "codemirror_mode": {
    "name": "ipython",
    "version": 3
   },
   "file_extension": ".py",
   "mimetype": "text/x-python",
   "name": "python",
   "nbconvert_exporter": "python",
   "pygments_lexer": "ipython3",
   "version": "3.8.3"
  }
 },
 "nbformat": 4,
 "nbformat_minor": 4
}
